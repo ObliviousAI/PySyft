{
 "cells": [
  {
   "cell_type": "code",
   "execution_count": 1,
   "id": "05a621d3-d248-48c8-bdb5-2744bcc399c9",
   "metadata": {},
   "outputs": [
    {
     "name": "stderr",
     "output_type": "stream",
     "text": [
      "/home/e/anaconda3/envs/Hagrid/lib/python3.9/site-packages/tqdm/auto.py:22: TqdmWarning: IProgress not found. Please update jupyter and ipywidgets. See https://ipywidgets.readthedocs.io/en/stable/user_install.html\n",
      "  from .autonotebook import tqdm as notebook_tqdm\n"
     ]
    }
   ],
   "source": [
    "import numpy as np\n",
    "import syft as sy"
   ]
  },
  {
   "cell_type": "code",
   "execution_count": 2,
   "id": "14f137cb-d7c5-4d22-9684-30b5a88e9023",
   "metadata": {},
   "outputs": [],
   "source": [
    "from syft.core.tensor.autodp.phi_tensor import PhiTensor"
   ]
  },
  {
   "cell_type": "code",
   "execution_count": 3,
   "id": "231b2426-0ca5-478d-a09f-ee4d70ff7ecb",
   "metadata": {},
   "outputs": [],
   "source": [
    "data = np.random.random((5,5))"
   ]
  },
  {
   "cell_type": "code",
   "execution_count": 4,
   "id": "d408c58d-e2c9-4eca-8756-059672404406",
   "metadata": {},
   "outputs": [
    {
     "data": {
      "text/plain": [
       "array([[0.22151607, 0.95402378, 0.86010463, 0.99970242, 0.03364267],\n",
       "       [0.86414296, 0.57046631, 0.55224965, 0.70987111, 0.34310241],\n",
       "       [0.02399197, 0.75737352, 0.54785674, 0.78438887, 0.75332661],\n",
       "       [0.29716044, 0.35258692, 0.52969371, 0.22079551, 0.59667058],\n",
       "       [0.356081  , 0.848218  , 0.17088452, 0.44369771, 0.87238432]])"
      ]
     },
     "execution_count": 4,
     "metadata": {},
     "output_type": "execute_result"
    }
   ],
   "source": [
    "data"
   ]
  },
  {
   "cell_type": "code",
   "execution_count": 5,
   "id": "dcae7e4c-f486-4b9c-8c28-989db2ffde99",
   "metadata": {},
   "outputs": [],
   "source": [
    "tensor = PhiTensor(child=data,data_subjects=np.ones((5,5))*11, min_vals=0, max_vals=1)"
   ]
  },
  {
   "cell_type": "code",
   "execution_count": 6,
   "id": "28db975d-5ac5-434c-a9aa-668020f6bdfe",
   "metadata": {},
   "outputs": [],
   "source": [
    "result = tensor.flatten()"
   ]
  },
  {
   "cell_type": "code",
   "execution_count": 7,
   "id": "9f041213-53c4-4551-b3ac-0ac5297d810a",
   "metadata": {},
   "outputs": [
    {
     "data": {
      "text/plain": [
       "(25,)"
      ]
     },
     "execution_count": 7,
     "metadata": {},
     "output_type": "execute_result"
    }
   ],
   "source": [
    "result.shape"
   ]
  },
  {
   "cell_type": "code",
   "execution_count": 8,
   "id": "4474b011-ad48-4c95-a07e-36e4b4c987ec",
   "metadata": {},
   "outputs": [
    {
     "data": {
      "text/plain": [
       "(25,)"
      ]
     },
     "execution_count": 8,
     "metadata": {},
     "output_type": "execute_result"
    }
   ],
   "source": [
    "result.min_vals.shape"
   ]
  },
  {
   "cell_type": "code",
   "execution_count": 9,
   "id": "264d3993-2515-4e79-9171-746f785f06d6",
   "metadata": {},
   "outputs": [
    {
     "data": {
      "text/plain": [
       "(25,)"
      ]
     },
     "execution_count": 9,
     "metadata": {},
     "output_type": "execute_result"
    }
   ],
   "source": [
    "result.max_vals.shape"
   ]
  },
  {
   "cell_type": "code",
   "execution_count": 8,
   "id": "5aeef3d8-0596-4e5d-846d-b8011b25efa2",
   "metadata": {},
   "outputs": [
    {
     "data": {
      "text/plain": [
       "array([[0.24906921, 0.22019958, 0.00622559, 0.49493408, 0.03981018],\n",
       "       [0.53218079, 0.75457764, 0.61071777, 0.41673279, 0.92134094],\n",
       "       [0.86331177, 0.01678467, 0.00872803, 0.15409851, 0.54125977],\n",
       "       [0.80279541, 0.18505859, 0.36766052, 0.72122192, 0.9336853 ],\n",
       "       [0.6550293 , 0.84341431, 0.88922119, 0.42829895, 0.80207825]])"
      ]
     },
     "execution_count": 8,
     "metadata": {},
     "output_type": "execute_result"
    }
   ],
   "source": [
    "tensor.child.decode()"
   ]
  },
  {
   "cell_type": "code",
   "execution_count": 11,
   "id": "19a33052-aa79-4508-9a04-fa277d53515f",
   "metadata": {},
   "outputs": [],
   "source": [
    "from syft.core.tensor.lazy_repeat_array import lazyrepeatarray"
   ]
  },
  {
   "cell_type": "code",
   "execution_count": 13,
   "id": "201a1825-4085-4432-b7da-d2bc6b5864c7",
   "metadata": {},
   "outputs": [],
   "source": [
    "minv = lazyrepeatarray(data=5, shape=(1_000_000_000_000))"
   ]
  },
  {
   "cell_type": "code",
   "execution_count": 14,
   "id": "719f74ad-88c7-4095-81d4-5fdd9ae43ad7",
   "metadata": {},
   "outputs": [
    {
     "data": {
      "text/plain": [
       "<lazyrepeatarray data: 5 -> shape: 1000000000000>"
      ]
     },
     "execution_count": 14,
     "metadata": {},
     "output_type": "execute_result"
    }
   ],
   "source": [
    "minv"
   ]
  },
  {
   "cell_type": "code",
   "execution_count": 15,
   "id": "8d774793-66fa-4417-af60-d3ddfb39b882",
   "metadata": {},
   "outputs": [
    {
     "data": {
      "text/plain": [
       "<lazyrepeatarray data: 15 -> shape: 1000000000000>"
      ]
     },
     "execution_count": 15,
     "metadata": {},
     "output_type": "execute_result"
    }
   ],
   "source": [
    "minv + 10"
   ]
  },
  {
   "cell_type": "code",
   "execution_count": 16,
   "id": "c6f96312-1c93-4607-ba46-44ba62794ed7",
   "metadata": {},
   "outputs": [],
   "source": [
    "r = [1,2,3,4,5]"
   ]
  },
  {
   "cell_type": "code",
   "execution_count": 17,
   "id": "a0d0541a-8eb4-4c3f-ac16-2212fde7cd1b",
   "metadata": {},
   "outputs": [],
   "source": [
    "owners = [\"Ishan\", \"Curtis\", \"Curtis\", \"Curtis\", \"Ishan\"]"
   ]
  },
  {
   "cell_type": "code",
   "execution_count": 18,
   "id": "a7ea464c-578c-44ea-bc54-82b70fe6fa70",
   "metadata": {},
   "outputs": [],
   "source": [
    "ohl = [\"Ishan\", \"Curtis\"]"
   ]
  },
  {
   "cell_type": "code",
   "execution_count": 19,
   "id": "dbb0cee6-d679-48b9-9d46-ebb404f2230f",
   "metadata": {},
   "outputs": [],
   "source": [
    "data_subjects_indexed = np.array([0, 1, 1, 1, 0])"
   ]
  },
  {
   "cell_type": "code",
   "execution_count": 20,
   "id": "5f01ac71-fb5c-4525-a011-21180b3b9817",
   "metadata": {},
   "outputs": [],
   "source": [
    "from syft.core.adp.data_subject_list import DataSubjectList"
   ]
  },
  {
   "cell_type": "code",
   "execution_count": 23,
   "id": "93222022-d486-4fff-ab60-7f46d0b20699",
   "metadata": {},
   "outputs": [],
   "source": [
    "dsl = DataSubjectList.from_objs(owners)"
   ]
  },
  {
   "cell_type": "code",
   "execution_count": 24,
   "id": "6c8fcede-1ae3-42fd-994c-01c438a48812",
   "metadata": {},
   "outputs": [
    {
     "data": {
      "text/plain": [
       "array(['Curtis', 'Ishan'], dtype='<U6')"
      ]
     },
     "execution_count": 24,
     "metadata": {},
     "output_type": "execute_result"
    }
   ],
   "source": [
    "dsl.one_hot_lookup"
   ]
  },
  {
   "cell_type": "code",
   "execution_count": 25,
   "id": "af8ca31f-5248-4baf-9a7d-0e0ea9438137",
   "metadata": {},
   "outputs": [
    {
     "data": {
      "text/plain": [
       "array([1, 0, 0, 0, 1])"
      ]
     },
     "execution_count": 25,
     "metadata": {},
     "output_type": "execute_result"
    }
   ],
   "source": [
    "dsl.data_subjects_indexed"
   ]
  },
  {
   "cell_type": "code",
   "execution_count": 26,
   "id": "25726dc4-35c8-4e16-acb3-c8900b53c746",
   "metadata": {},
   "outputs": [
    {
     "data": {
      "text/plain": [
       "PhiTensor(child=FixedPrecisionTensor(child=[[16323 14431   408 32436  2609]\n",
       " [34877 49452 40024 27311 60381]\n",
       " [56578  1100   572 10099 35472]\n",
       " [52612 12128 24095 47266 61190]\n",
       " [42928 55274 58276 28069 52565]]), min_vals=<lazyrepeatarray data: 0 -> shape: (5, 5)>, max_vals=<lazyrepeatarray data: 1 -> shape: (5, 5)>)"
      ]
     },
     "execution_count": 26,
     "metadata": {},
     "output_type": "execute_result"
    }
   ],
   "source": [
    "tensor"
   ]
  },
  {
   "cell_type": "code",
   "execution_count": 28,
   "id": "3f2ed4c4-da97-4fd3-9143-0e5e01898395",
   "metadata": {},
   "outputs": [],
   "source": [
    "res = tensor + 5"
   ]
  },
  {
   "cell_type": "code",
   "execution_count": 29,
   "id": "4d4f8957-8fc5-484e-b363-d184bc9a4658",
   "metadata": {},
   "outputs": [
    {
     "data": {
      "text/plain": [
       "array([[5.24906921, 5.22019958, 5.00622559, 5.49493408, 5.03981018],\n",
       "       [5.53218079, 5.75457764, 5.61071777, 5.41673279, 5.92134094],\n",
       "       [5.86331177, 5.01678467, 5.00872803, 5.15409851, 5.54125977],\n",
       "       [5.80279541, 5.18505859, 5.36766052, 5.72122192, 5.9336853 ],\n",
       "       [5.6550293 , 5.84341431, 5.88922119, 5.42829895, 5.80207825]])"
      ]
     },
     "execution_count": 29,
     "metadata": {},
     "output_type": "execute_result"
    }
   ],
   "source": [
    "res.child.decode()"
   ]
  },
  {
   "cell_type": "code",
   "execution_count": 30,
   "id": "661ae4f3-a13e-4b35-a7ae-cfa7281a65da",
   "metadata": {},
   "outputs": [
    {
     "data": {
      "text/plain": [
       "<lazyrepeatarray data: 5 -> shape: (5, 5)>"
      ]
     },
     "execution_count": 30,
     "metadata": {},
     "output_type": "execute_result"
    }
   ],
   "source": [
    "res.min_vals"
   ]
  },
  {
   "cell_type": "code",
   "execution_count": 31,
   "id": "681f8ce8-d0cb-4455-9ed7-8120ee9ded41",
   "metadata": {},
   "outputs": [
    {
     "data": {
      "text/plain": [
       "<lazyrepeatarray data: 6 -> shape: (5, 5)>"
      ]
     },
     "execution_count": 31,
     "metadata": {},
     "output_type": "execute_result"
    }
   ],
   "source": [
    "res.max_vals"
   ]
  },
  {
   "cell_type": "code",
   "execution_count": 32,
   "id": "1b4f0c69-5a1d-4cff-80eb-2b61cdc18345",
   "metadata": {},
   "outputs": [
    {
     "name": "stdout",
     "output_type": "stream",
     "text": [
      "WARNING: CHANGE YOUR USERNAME AND PASSWORD!!! \n",
      "\n",
      "Anyone can login as an admin to your node right now because your password is still the default PySyft username and password!!!\n",
      "\n",
      "Connecting to localhost... done! \t Logging into adp... done!\n"
     ]
    }
   ],
   "source": [
    "domain = sy.login(email=\"info@openmined.org\", password=\"changethis\", port=8081)"
   ]
  },
  {
   "cell_type": "code",
   "execution_count": 33,
   "id": "f1199b96-593f-4d02-8135-44dd7f16c4e2",
   "metadata": {},
   "outputs": [
    {
     "data": {
      "text/html": [
       "(no datasets found)"
      ],
      "text/plain": [
       "<syft.core.node.common.client_manager.dataset_api.DatasetRequestAPI at 0x7fc4b22e7d30>"
      ]
     },
     "execution_count": 33,
     "metadata": {},
     "output_type": "execute_result"
    }
   ],
   "source": [
    "domain.datasets"
   ]
  },
  {
   "cell_type": "code",
   "execution_count": 36,
   "id": "6219aef5-3f8a-4f9d-835f-3974470fb8b5",
   "metadata": {},
   "outputs": [],
   "source": [
    "dataset = sy.Tensor(data).private(min_val=0, max_val=1, data_subjects=[\"Ishan\"]*5)"
   ]
  },
  {
   "cell_type": "code",
   "execution_count": 37,
   "id": "202797cd-f5c2-4828-bc17-de92ac2bb354",
   "metadata": {},
   "outputs": [
    {
     "name": "stdout",
     "output_type": "stream",
     "text": [
      "Loading dataset... uploading...🚀                                                                                                                                             "
     ]
    },
    {
     "name": "stderr",
     "output_type": "stream",
     "text": [
      "Uploading `data`: 100%|\u001b[32m███████████████████████████████████████████████\u001b[0m| 1/1 [00:00<00:00,  4.84it/s]\u001b[0m"
     ]
    },
    {
     "name": "stdout",
     "output_type": "stream",
     "text": [
      "Dataset is uploaded successfully !!! 🎉\n",
      "\n",
      "Run `<your client variable>.datasets` to see your new dataset loaded into your machine!\n"
     ]
    },
    {
     "name": "stderr",
     "output_type": "stream",
     "text": [
      "\n"
     ]
    }
   ],
   "source": [
    "domain.load_dataset(\n",
    "    assets={\"data\": dataset},\n",
    "    name=\"Example\",\n",
    "    description=\"Just an example. (Definitely) Nothing suspicious here.\"\n",
    ")"
   ]
  },
  {
   "cell_type": "code",
   "execution_count": 38,
   "id": "e3dda4a2-88b8-41ef-8c5a-7caea0355b30",
   "metadata": {},
   "outputs": [
    {
     "data": {
      "text/html": [
       "<style>\n",
       "                #myInput {\n",
       "                  background-position: 10px 12px; /* Position the search icon */\n",
       "                  background-repeat: no-repeat; /* Do not repeat the icon image */\n",
       "                  background-color: #bbb;\n",
       "                  width: 98%; /* Full-width */\n",
       "                  font-size: 14px; /* Increase font-size */\n",
       "                  padding: 12px 20px 12px 40px; /* Add some padding */\n",
       "                  border: 1px solid #ddd; /* Add a grey border */\n",
       "                  margin-bottom: 12px; /* Add some space below the input */\n",
       "                }\n",
       "\n",
       "                #myTable {\n",
       "                  border-collapse: collapse; /* Collapse borders */\n",
       "                  width: 100%; /* Full-width */\n",
       "                  border: 1px solid #ddd; /* Add a grey border */\n",
       "                  font-size: 14px; /* Increase font-size */\n",
       "                }\n",
       "\n",
       "                #myTable th, #myTable td {\n",
       "                  text-align: left; /* Left-align text */\n",
       "                  padding: 10px; /* Add padding */\n",
       "                }\n",
       "\n",
       "                #myTable tr {\n",
       "                  /* Add a bottom border to all table rows */\n",
       "                  border-bottom: 1px solid #ddd;\n",
       "                }\n",
       "\n",
       "                #myTable tr.header, #myTable tr:hover {\n",
       "                  /* Add a grey background color to the table header and on hover */\n",
       "                  background-color: #777;\n",
       "                }\n",
       "                </style>\n",
       "\n",
       "                <table id=\"myTable\" style=\"width:1000px\">\n",
       "                  <tr class=\"header\">\n",
       "                    <th style=\"width:30px\">Idx</th>\n",
       "                    <th style=\"width:20%;\">Name</th>\n",
       "                    <th style=\"width:35%;\">Description</th>\n",
       "                    <th style=\"width:20%;\">Assets</th>\n",
       "                    <th style=\"width:300px;\">Id</th>\n",
       "                  </tr>\n",
       "                \n",
       "\n",
       "          <tr>\n",
       "            <td>[0]</td>\n",
       "            <td>Example</td>\n",
       "            <td>Just an example. (Definitely) Nothing suspicious here.</td>\n",
       "            <td>[\"data\"] -> <class 'syft.core.tensor.tensor.Tensor'><br /><br /></td>\n",
       "            <td>3593dc13-b844-448b-bcde-10e4fa328120</td>\n",
       "          </tr>\n",
       "        </table>\n",
       "\n",
       "        <script>\n",
       "        function myFunction() {\n",
       "          // Declare variables\n",
       "          var input, filter, table, tr, td, i, txtValue;\n",
       "          input = document.getElementById(\"myInput\");\n",
       "          filter = input.value.toUpperCase();\n",
       "          table = document.getElementById(\"myTable\");\n",
       "          tr = table.getElementsByTagName(\"tr\");\n",
       "\n",
       "          // Loop through all table rows, and hide those who don't match the search query\n",
       "          for (i = 0; i < tr.length; i++) {\n",
       "            name_td = tr[i].getElementsByTagName(\"td\")[1];\n",
       "            desc_td = tr[i].getElementsByTagName(\"td\")[2];\n",
       "            asset_td = tr[i].getElementsByTagName(\"td\")[3];\n",
       "            id_td = tr[i].getElementsByTagName(\"td\")[4];\n",
       "            if (name_td || desc_td || asset_td || id_td) {\n",
       "              name_txtValue = name_td.textContent || name_td.innerText;\n",
       "              desc_txtValue = desc_td.textContent || name_td.innerText;\n",
       "              asset_txtValue = asset_td.textContent || name_td.innerText;\n",
       "              id_txtValue = id_td.textContent || name_td.innerText;\n",
       "              name_bool = name_txtValue.toUpperCase().indexOf(filter) > -1;\n",
       "              desc_bool = desc_txtValue.toUpperCase().indexOf(filter) > -1;\n",
       "              asset_bool = asset_txtValue.toUpperCase().indexOf(filter) > -1;\n",
       "              id_bool = id_txtValue.toUpperCase().indexOf(filter) > -1;\n",
       "              if (name_bool || desc_bool || asset_bool || id_bool) {\n",
       "                tr[i].style.display = \"\";\n",
       "              } else {\n",
       "                tr[i].style.display = \"none\";\n",
       "              }\n",
       "            }\n",
       "          }\n",
       "        }\n",
       "        </script>"
      ],
      "text/plain": [
       "<syft.core.node.common.client_manager.dataset_api.DatasetRequestAPI at 0x7fc4b22e7d30>"
      ]
     },
     "execution_count": 38,
     "metadata": {},
     "output_type": "execute_result"
    }
   ],
   "source": [
    "domain.datasets"
   ]
  },
  {
   "cell_type": "code",
   "execution_count": 41,
   "id": "7fda9e33-f2a2-4a17-b432-737b637bc7da",
   "metadata": {},
   "outputs": [],
   "source": [
    "ptr = domain.datasets[0][\"data\"]"
   ]
  },
  {
   "cell_type": "code",
   "execution_count": 42,
   "id": "e13ed5e5-c869-4564-b8bf-2ab3449fed93",
   "metadata": {},
   "outputs": [
    {
     "data": {
      "text/plain": [
       "array([[0.74626164, 0.88850559, 0.87146758, 0.53852785, 0.43504628],\n",
       "       [0.40247307, 0.17126758, 0.10440962, 0.04126346, 0.60866089],\n",
       "       [0.66585783, 0.38103454, 0.78348514, 0.63036726, 0.84365312],\n",
       "       [0.63793166, 0.00443682, 0.19932242, 0.54214582, 0.09886517],\n",
       "       [0.9514734 , 0.21958958, 0.59688228, 0.32030964, 0.76325198]])\n",
       "\n",
       " (The data printed above is synthetic - it's an imitation of the real data.)"
      ]
     },
     "execution_count": 42,
     "metadata": {},
     "output_type": "execute_result"
    }
   ],
   "source": [
    "ptr"
   ]
  },
  {
   "cell_type": "code",
   "execution_count": 43,
   "id": "7c4edeae-f323-4951-9e5f-6cb563db260a",
   "metadata": {},
   "outputs": [],
   "source": [
    "res = ptr + 5"
   ]
  },
  {
   "cell_type": "code",
   "execution_count": 44,
   "id": "f3eafa05-4922-4f19-815a-15132068197f",
   "metadata": {},
   "outputs": [],
   "source": [
    "res = ptr.sum()"
   ]
  },
  {
   "cell_type": "code",
   "execution_count": 45,
   "id": "9385a843-c7f3-433b-8866-a18b88adb534",
   "metadata": {},
   "outputs": [],
   "source": [
    "res = ptr.T"
   ]
  },
  {
   "cell_type": "code",
   "execution_count": 46,
   "id": "0b5c0cba-10c8-49f3-aa60-7fe3f260e6de",
   "metadata": {},
   "outputs": [
    {
     "data": {
      "text/plain": [
       "PhiTensor(child=FixedPrecisionTensor(child=[[16323 14431   408 32436  2609]\n",
       " [34877 49452 40024 27311 60381]\n",
       " [56578  1100   572 10099 35472]\n",
       " [52612 12128 24095 47266 61190]\n",
       " [42928 55274 58276 28069 52565]]), min_vals=<lazyrepeatarray data: 0 -> shape: (5, 5)>, max_vals=<lazyrepeatarray data: 1 -> shape: (5, 5)>)"
      ]
     },
     "execution_count": 46,
     "metadata": {},
     "output_type": "execute_result"
    }
   ],
   "source": [
    "tensor"
   ]
  },
  {
   "cell_type": "code",
   "execution_count": 48,
   "id": "58f7e4fa-a61b-4bc6-b04a-75c528eea0ab",
   "metadata": {},
   "outputs": [
    {
     "data": {
      "text/plain": [
       "array([[0.24906921, 0.22019958, 0.00622559, 0.49493408, 0.03981018],\n",
       "       [0.53218079, 0.75457764, 0.61071777, 0.41673279, 0.92134094],\n",
       "       [0.86331177, 0.01678467, 0.00872803, 0.15409851, 0.54125977],\n",
       "       [0.80279541, 0.18505859, 0.36766052, 0.72122192, 0.9336853 ],\n",
       "       [0.6550293 , 0.84341431, 0.88922119, 0.42829895, 0.80207825]])"
      ]
     },
     "execution_count": 48,
     "metadata": {},
     "output_type": "execute_result"
    }
   ],
   "source": [
    "tensor.child.decode()"
   ]
  },
  {
   "cell_type": "code",
   "execution_count": 49,
   "id": "9a6c4e9a-ef67-4f95-a6b5-de6e60e78de9",
   "metadata": {},
   "outputs": [
    {
     "data": {
      "text/plain": [
       "array([0.24906921, 0.22019958, 0.00622559, 0.49493408, 0.03981018,\n",
       "       0.53218079, 0.75457764, 0.61071777, 0.41673279, 0.92134094,\n",
       "       0.86331177, 0.01678467, 0.00872803, 0.15409851, 0.54125977,\n",
       "       0.80279541, 0.18505859, 0.36766052, 0.72122192, 0.9336853 ,\n",
       "       0.6550293 , 0.84341431, 0.88922119, 0.42829895, 0.80207825])"
      ]
     },
     "execution_count": 49,
     "metadata": {},
     "output_type": "execute_result"
    }
   ],
   "source": [
    "tensor.child.decode().flatten()"
   ]
  },
  {
   "cell_type": "code",
   "execution_count": 52,
   "id": "3b200ebb-fb99-4f74-bff4-07410416e990",
   "metadata": {},
   "outputs": [
    {
     "data": {
      "text/plain": [
       "(25,)"
      ]
     },
     "execution_count": 52,
     "metadata": {},
     "output_type": "execute_result"
    }
   ],
   "source": [
    "tensor.child.decode().flatten().shape"
   ]
  },
  {
   "cell_type": "code",
   "execution_count": 53,
   "id": "df0af521-4e7c-4a5a-965d-7829d7639fb9",
   "metadata": {},
   "outputs": [
    {
     "data": {
      "text/plain": [
       "(5, 5)"
      ]
     },
     "execution_count": 53,
     "metadata": {},
     "output_type": "execute_result"
    }
   ],
   "source": [
    "tensor.min_vals.shape"
   ]
  },
  {
   "cell_type": "code",
   "execution_count": 56,
   "id": "8c041224-93fa-4bb0-80ab-b312a301fed9",
   "metadata": {},
   "outputs": [
    {
     "data": {
      "text/plain": [
       "25"
      ]
     },
     "execution_count": 56,
     "metadata": {},
     "output_type": "execute_result"
    }
   ],
   "source": [
    "product = 1\n",
    "for i in tensor.min_vals.shape:\n",
    "    product *= i\n",
    "product"
   ]
  },
  {
   "cell_type": "code",
   "execution_count": 58,
   "id": "1ef5fd3a-b7fe-4d29-b23f-01ee650a28fc",
   "metadata": {},
   "outputs": [
    {
     "data": {
      "text/plain": [
       "array(['Ishan'], dtype='<U5')"
      ]
     },
     "execution_count": 58,
     "metadata": {},
     "output_type": "execute_result"
    }
   ],
   "source": [
    "tensor.data_subjects.one_hot_lookup"
   ]
  },
  {
   "cell_type": "code",
   "execution_count": 59,
   "id": "23228cbf-91d4-4dfb-b65f-29f15748995d",
   "metadata": {},
   "outputs": [
    {
     "data": {
      "text/plain": [
       "array(0)"
      ]
     },
     "execution_count": 59,
     "metadata": {},
     "output_type": "execute_result"
    }
   ],
   "source": [
    "tensor.data_subjects.data_subjects_indexed"
   ]
  },
  {
   "cell_type": "code",
   "execution_count": 60,
   "id": "cd896eca-c969-447a-b9da-bf5bae541df4",
   "metadata": {},
   "outputs": [],
   "source": [
    "tensor = PhiTensor(child=data,data_subjects=np.ones((5,5))*7 , min_vals=0, max_vals=1)"
   ]
  },
  {
   "cell_type": "code",
   "execution_count": 61,
   "id": "66af5996-4f56-4ba6-8024-4f9ff5db774f",
   "metadata": {},
   "outputs": [
    {
     "data": {
      "text/plain": [
       "array([[0, 0, 0, 0, 0],\n",
       "       [0, 0, 0, 0, 0],\n",
       "       [0, 0, 0, 0, 0],\n",
       "       [0, 0, 0, 0, 0],\n",
       "       [0, 0, 0, 0, 0]])"
      ]
     },
     "execution_count": 61,
     "metadata": {},
     "output_type": "execute_result"
    }
   ],
   "source": [
    "tensor.data_subjects.data_subjects_indexed"
   ]
  },
  {
   "cell_type": "code",
   "execution_count": 62,
   "id": "9057e8d4-8c22-43b5-89f5-bffdd6b26a35",
   "metadata": {},
   "outputs": [
    {
     "data": {
      "text/plain": [
       "array([7.])"
      ]
     },
     "execution_count": 62,
     "metadata": {},
     "output_type": "execute_result"
    }
   ],
   "source": [
    "tensor.data_subjects.one_hot_lookup"
   ]
  },
  {
   "cell_type": "code",
   "execution_count": 14,
   "id": "e42ef0c3-ebd7-4488-887c-689eb7fd3f57",
   "metadata": {},
   "outputs": [],
   "source": [
    "value = np.array([5])"
   ]
  },
  {
   "cell_type": "code",
   "execution_count": null,
   "id": "9984c4dc-b578-4664-a471-d76fe8f242bd",
   "metadata": {},
   "outputs": [],
   "source": []
  },
  {
   "cell_type": "code",
   "execution_count": 13,
   "id": "38d4ce76-ec04-47b5-bbee-2419bbbc08aa",
   "metadata": {},
   "outputs": [
    {
     "data": {
      "text/plain": [
       "(5, 5)"
      ]
     },
     "execution_count": 13,
     "metadata": {},
     "output_type": "execute_result"
    }
   ],
   "source": [
    "data.shape"
   ]
  },
  {
   "cell_type": "code",
   "execution_count": null,
   "id": "352d51ce-e3cf-40aa-b852-c2aef00e12ff",
   "metadata": {},
   "outputs": [],
   "source": []
  },
  {
   "cell_type": "code",
   "execution_count": null,
   "id": "63869981-6d8d-411f-9efc-851ddf7d47ba",
   "metadata": {},
   "outputs": [],
   "source": [
    "np.broadcast_shapes("
   ]
  }
 ],
 "metadata": {
  "kernelspec": {
   "display_name": "Python 3 (ipykernel)",
   "language": "python",
   "name": "python3"
  },
  "language_info": {
   "codemirror_mode": {
    "name": "ipython",
    "version": 3
   },
   "file_extension": ".py",
   "mimetype": "text/x-python",
   "name": "python",
   "nbconvert_exporter": "python",
   "pygments_lexer": "ipython3",
   "version": "3.9.7"
  }
 },
 "nbformat": 4,
 "nbformat_minor": 5
}
